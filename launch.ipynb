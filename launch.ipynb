{
 "cells": [
  {
   "cell_type": "code",
   "execution_count": 1,
   "id": "808cde61-dd0c-4720-a9f2-557cf77814dc",
   "metadata": {},
   "outputs": [],
   "source": [
    "# mamba create -n pw\n",
    "# mamba activate pw\n",
    "# mamba install ipykernel\n",
    "# pip install pandas numpy tables matplotlib"
   ]
  },
  {
   "cell_type": "code",
   "execution_count": 2,
   "id": "fe822c07-410f-40b0-aaf5-c62e378d9325",
   "metadata": {},
   "outputs": [],
   "source": [
    "import math, os, sys, subprocess, shutil\n",
    "import pandas as pd\n",
    "import numpy as np\n",
    "import run, extract\n",
    "import matplotlib as mpl\n",
    "import matplotlib.pyplot as plt\n",
    "\n",
    "# dictionary of OpenMalaria measure name <-> output number\n",
    "from measures import mm, mmi"
   ]
  },
  {
   "cell_type": "code",
   "execution_count": 3,
   "id": "ca5b0ce3-5f34-4198-8e4f-c6c851f11fe9",
   "metadata": {},
   "outputs": [],
   "source": [
    "# if using the sciCORE cluster:\n",
    "slurm = {\n",
    "    'account' : 'chitnis',\n",
    "    'jobname' : 'OpenMalaria',\n",
    "    'qos': '30min',\n",
    "    'cpus_per_task': 16,\n",
    "    'batch_size': 32\n",
    "}\n",
    "\n",
    "# OpenMalaria\n",
    "om = { \n",
    "    'version' : 47,\n",
    "    'path' : \"/scicore/home/chitnis/GROUP/openMalaria-47.0/\",\n",
    "    'prepare': \"ml OpenMalaria/47.0-intel-compilers-2023.1.0\"\n",
    "}"
   ]
  },
  {
   "cell_type": "code",
   "execution_count": 4,
   "id": "9ed50e99-a711-41ea-be34-d2ffe1642a1a",
   "metadata": {},
   "outputs": [],
   "source": [
    "output = 'output' # name of the output folder\n",
    "\n",
    "scaffold = \"scaffolds/R0000GA.xml\" # base xml\n",
    "\n",
    "# Substitutions\n",
    "substitutions = {\n",
    "    \"version\": 47,\n",
    "    \"pop_size\": 10000,\n",
    "    \"start_year\": 2000,\n",
    "    \"end_year\": 2020,\n",
    "    \"access\": 0.2029544,\n",
    "    \"indoor\": 0.2,\n",
    "}\n",
    "\n",
    "substitutions[\"burn_in\"] = substitutions[\"start_year\"] - 30\n",
    "substitutions[\"outdoor\"] = 1.0 - substitutions[\"indoor\"]\n",
    "\n",
    "# Variable\n",
    "seeds = [0,1,2,3,4,5,6,7,8,9]\n",
    "eirs = [0.25, 0.5, 0.75, 1, 1.25, 1.5, 1.75, 2, 2.5, 3, 4, 5, 6, 7, 8, 9, 10, 12, 14, 16, 18, 20, 22, 25, 30, 35, 40, 45, 50, 65, 70, 80, 90, 100, 120, 150, 200, 250, 500, 750, 1000]\n",
    "\n",
    "# For a quick test\n",
    "substitutions[\"pop_size\"] = 5000\n",
    "seeds = [i for i in range(0,3)]\n",
    "eirs = [1, 5, 10, 20, 50, 100, 200]\n",
    "\n",
    "# Define functional form of non-perennial, seasonal setting\n",
    "season_daily = 1 + np.sin(2 * np.pi * (np.arange(0,365) / 365)) / 2 + np.cos(2 * np.pi * (np.arange(0,365) / 365)) / 2\n",
    "season_months = [season_daily[1+int(i*(365/12))] for i in range(0, 12)]\n",
    "seasonality = season_months / np.max(season_months)"
   ]
  },
  {
   "cell_type": "code",
   "execution_count": 5,
   "id": "96d39a6b-a2c6-4d7a-857c-49373bbcf84f",
   "metadata": {},
   "outputs": [],
   "source": [
    "# return a list of scenarios\n",
    "def create_scenarios():\n",
    "    index = 0\n",
    "    scenarios = []\n",
    "\n",
    "    xml = None\n",
    "    with open(f\"{scaffold}\", \"r\") as fp:\n",
    "        xml = fp.read()\n",
    "\n",
    "    # Replace general placeholders\n",
    "    for key, value in substitutions.items():\n",
    "        xml = xml.replace(f\"@{key}@\", str(value))\n",
    "\n",
    "    for eir in eirs:\n",
    "        for seed in seeds:\n",
    "            # for mode in modes:\n",
    "            scenario = xml.replace('@seed@', str(seed))\n",
    "            scenario = scenario.replace('@eir@', str(eir))\n",
    "\n",
    "            for i in range(1,13):\n",
    "                scenario = scenario.replace(f'@seasonality{i}@', str(seasonality[i-1]))\n",
    "        \n",
    "            with open(f\"{output}/xml/{index}.xml\", 'w') as fo:\n",
    "                fo.write(f\"{scenario}\")\n",
    "                scenarios.append({\"eir\": eir, \"seed\": seed, \"index\": index})\n",
    "                index += 1\n",
    "                \n",
    "    return scenarios"
   ]
  },
  {
   "cell_type": "code",
   "execution_count": 6,
   "id": "d1c98829-e08a-4885-b868-46acf8083dce",
   "metadata": {},
   "outputs": [
    {
     "name": "stdout",
     "output_type": "stream",
     "text": [
      "Cleaning Tree...\n"
     ]
    }
   ],
   "source": [
    "# run all the scenarios and write the scenarios metadata to scenarios.csv\n",
    "print(f\"Cleaning Tree...\", flush=True)\n",
    "shutil.rmtree(\"{output}\", ignore_errors = True)\n",
    "os.makedirs(os.path.relpath(f\"{output}/xml\"), exist_ok=True)\n",
    "os.makedirs(os.path.relpath(f\"{output}/txt\"), exist_ok=True)\n",
    "os.makedirs(os.path.relpath(f\"{output}/fig\"), exist_ok=True)\n",
    "os.makedirs(os.path.relpath(f\"{output}/log\"), exist_ok=True)"
   ]
  },
  {
   "cell_type": "code",
   "execution_count": 7,
   "id": "7ac3cf74-ba53-44cf-8e84-c0a6be52ac08",
   "metadata": {},
   "outputs": [
    {
     "name": "stdout",
     "output_type": "stream",
     "text": [
      "Creating scenarios...\n"
     ]
    }
   ],
   "source": [
    "print(f\"Creating scenarios...\", flush=True)\n",
    "scenarios = create_scenarios()\n",
    "pd.DataFrame(scenarios).to_csv(f'{output}/scenarios.csv', index=False)"
   ]
  },
  {
   "cell_type": "code",
   "execution_count": 8,
   "id": "714f0145-4544-4ab9-b138-5bf62e4ccca5",
   "metadata": {},
   "outputs": [
    {
     "name": "stdout",
     "output_type": "stream",
     "text": [
      "Running 21 scenarios...\n",
      "Submitted batch job 27592958\n"
     ]
    }
   ],
   "source": [
    "print(f\"Running {len(scenarios)} scenarios...\", flush=True)\n",
    "scenarios = pd.read_csv(f'{output}/scenarios.csv')\n",
    "\n",
    "run.run_slurm(scenarios, output, om, slurm)\n",
    "#run.run_local(scenarios, output, om)"
   ]
  },
  {
   "cell_type": "code",
   "execution_count": 9,
   "id": "3a2e5fd7-485c-4678-bf77-115d9a158d74",
   "metadata": {},
   "outputs": [
    {
     "name": "stdout",
     "output_type": "stream",
     "text": [
      "Extracting results...\n"
     ]
    }
   ],
   "source": [
    "# concatenate all txt outputs from OpenMalaria to a nice output.csv file\n",
    "print(f\"Extracting results...\", flush=True)\n",
    "shutil.rmtree(f\"{output}/output.csv\", ignore_errors = True)\n",
    "scenarios = pd.read_csv(f'{output}/scenarios.csv')\n",
    "df = extract.to_df(scenarios, output)\n",
    "# df.to_csv(f\"{output}/output.csv\", index=False, compression='gzip')\n",
    "df.to_hdf(f\"{output}/output.h5\", key='df', mode='w', index=False) # Many times faster than csv"
   ]
  },
  {
   "cell_type": "code",
   "execution_count": 10,
   "id": "0c772611-a73e-4df1-8626-0c2a0eae83b9",
   "metadata": {},
   "outputs": [
    {
     "name": "stdout",
     "output_type": "stream",
     "text": [
      "Loading...\n",
      "Post processing...\n"
     ]
    },
    {
     "data": {
      "text/plain": [
       "<matplotlib.legend.Legend at 0x153835d0da90>"
      ]
     },
     "execution_count": 10,
     "metadata": {},
     "output_type": "execute_result"
    },
    {
     "data": {
      "image/png": "[encoded data removed]",
      "text/plain": [
       "<Figure size 600x400 with 1 Axes>"
      ]
     },
     "metadata": {},
     "output_type": "display_data"
    }
   ],
   "source": [
    "print(f\"Loading...\", flush=True)\n",
    "scenarios = pd.read_csv(f'{output}/scenarios.csv')\n",
    "# df = pd.read_csv(f\"{output}/output.csv\", compression='gzip')\n",
    "df = pd.read_hdf(f\"{output}/output.h5\", key='df')\n",
    "df.reset_index(drop=True, inplace=True)\n",
    "\n",
    "# User part below\n",
    "print(f\"Post processing...\", flush=True)\n",
    "df.dropna(inplace=True)\n",
    "\n",
    "# remove first survey\n",
    "df.drop(df[df.survey == 1].index, inplace=True)\n",
    "\n",
    "# reset index\n",
    "df.reset_index(drop=True, inplace=True)\n",
    "\n",
    "# Sum the surveys\n",
    "df = pd.merge(df, scenarios, on='index', how='inner')\n",
    "\n",
    "nHost = df[df.measure == 0].groupby(['eir', 'seed']).value.sum() / 20\n",
    "nPatent = df[df.measure == 14].groupby(['eir', 'seed']).value.sum()\n",
    "prevalence = (nHost / nPatent).groupby('eir')\n",
    "\n",
    "fig = plt.figure(figsize=(6,4))\n",
    "plt.plot(prevalence.mean(), marker='o', label=f\"prevalence\")\n",
    "plt.fill_between(df.eir.unique(), prevalence.min(), prevalence.max(), alpha=0.3)\n",
    "plt.xlabel(\"EIR\")\n",
    "plt.ylabel(\"prevalence\")\n",
    "plt.legend()"
   ]
  },
  {
   "cell_type": "code",
   "execution_count": null,
   "id": "aabeaedd-3ec5-443f-8c96-b8071194bf50",
   "metadata": {},
   "outputs": [],
   "source": []
  }
 ],
 "metadata": {
  "kernelspec": {
   "display_name": "Python [conda env:miniforge3-pw]",
   "language": "python",
   "name": "conda-env-miniforge3-pw-py"
  },
  "language_info": {
   "codemirror_mode": {
    "name": "ipython",
    "version": 3
   },
   "file_extension": ".py",
   "mimetype": "text/x-python",
   "name": "python",
   "nbconvert_exporter": "python",
   "pygments_lexer": "ipython3",
   "version": "3.13.1"
  }
 },
 "nbformat": 4,
 "nbformat_minor": 5
}
